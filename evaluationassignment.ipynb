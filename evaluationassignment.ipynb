{
 "cells": [
  {
   "cell_type": "code",
   "execution_count": 11,
   "metadata": {},
   "outputs": [
    {
     "data": {
      "text/plain": [
       "(array([[ 0.26152899,  0.39351481, -0.63365935,  0.82713357, -0.44725716,\n",
       "         -0.13233303,  0.4472136 ,  1.22474487,  1.        , -0.8660254 ],\n",
       "        [-0.67230486, -0.52634573, -0.82813559, -0.04311034, -0.85192419,\n",
       "         -0.41022421,  0.4472136 ,  0.        ,  1.        , -0.8660254 ],\n",
       "        [-0.35262561, -0.18093376, -0.65380752,  0.06513604, -0.69477195,\n",
       "         -0.48938678,  0.4472136 , -1.22474487,  1.        , -0.8660254 ],\n",
       "        [ 0.38877105,  0.37865838, -0.46694313,  0.69752278, -0.32546417,\n",
       "          0.51981131, -0.4472136 ,  1.22474487,  1.        , -0.8660254 ],\n",
       "        [ 0.17555954, -0.03360751,  0.00149711,  0.44114977,  0.08548895,\n",
       "          0.13747606, -0.4472136 ,  0.        ,  1.        , -0.8660254 ]]),\n",
       " 0    1\n",
       " 1    5\n",
       " 2    0\n",
       " 3    1\n",
       " 4    5\n",
       " Name: Frustrated, dtype: int64)"
      ]
     },
     "execution_count": 11,
     "metadata": {},
     "output_type": "execute_result"
    }
   ],
   "source": [
    "import pandas as pd\n",
    "from sklearn.model_selection import train_test_split, KFold, cross_val_score\n",
    "from sklearn.preprocessing import StandardScaler, LabelEncoder\n",
    "from sklearn.metrics import mean_absolute_error, mean_squared_error, r2_score\n",
    "\n",
    "# Load dataset\n",
    "data = pd.read_csv('HR_data.csv')\n",
    "\n",
    "# Encode categorical variables\n",
    "data['Round'] = data['Round'].apply(lambda x: int(x.split('_')[1]))\n",
    "data['Phase'] = data['Phase'].apply(lambda x: int(x[-1]))\n",
    "\n",
    "le = LabelEncoder()\n",
    "data['Puzzler'] = le.fit_transform(data['Puzzler'])\n",
    "data['Cohort'] = le.fit_transform(data['Cohort'])\n",
    "\n",
    "# Hr values and frustraion\n",
    "X = data[['HR_Mean', 'HR_Median', 'HR_std', 'HR_Min', 'HR_Max', 'HR_AUC', 'Round', 'Phase', 'Puzzler', 'Cohort']]\n",
    "y = data['Frustrated']\n",
    "\n",
    "# Standardize the features\n",
    "scaler = StandardScaler()\n",
    "X_scaled = scaler.fit_transform(X)\n",
    "\n",
    "X_scaled[:5], y[:5]  # Test"
   ]
  },
  {
   "cell_type": "code",
   "execution_count": 15,
   "metadata": {},
   "outputs": [
    {
     "name": "stderr",
     "output_type": "stream",
     "text": [
      "C:\\Users\\Monza\\AppData\\Local\\Temp\\ipykernel_23344\\1101547882.py:14: DeprecationWarning: KerasRegressor is deprecated, use Sci-Keras (https://github.com/adriangb/scikeras) instead. See https://www.adriangb.com/scikeras/stable/migration.html for help migrating.\n",
      "  ann_model = KerasRegressor(build_fn=create_ann, epochs=100, batch_size=10, verbose=0)\n"
     ]
    }
   ],
   "source": [
    "from keras.models import Sequential\n",
    "from keras.layers import Dense\n",
    "from keras.wrappers.scikit_learn import KerasRegressor\n",
    "\n",
    "def create_ann():\n",
    "    model = Sequential()\n",
    "    model.add(Dense(64, input_dim=X_scaled.shape[1], activation='relu'))\n",
    "    model.add(Dense(32, activation='relu'))\n",
    "    model.add(Dense(1))\n",
    "    model.compile(loss='mean_squared_error', optimizer='adam')\n",
    "    return model\n",
    "\n",
    "# Initialize and train the ANN model\n",
    "ann_model = KerasRegressor(build_fn=create_ann, epochs=100, batch_size=10, verbose=0)\n",
    "ann_model.fit(X_scaled, y)\n",
    "\n",
    "# Predictions\n",
    "y_pred_ann = ann_model.predict(X_scaled)"
   ]
  },
  {
   "cell_type": "code",
   "execution_count": 14,
   "metadata": {},
   "outputs": [],
   "source": [
    "from sklearn.linear_model import LinearRegression\n",
    "from sklearn.ensemble import RandomForestRegressor\n",
    "\n",
    "# Initialize models\n",
    "lr_model = LinearRegression()\n",
    "rf_model = RandomForestRegressor(random_state=42)\n",
    "\n",
    "# Train models\n",
    "lr_model.fit(X_scaled, y)\n",
    "rf_model.fit(X_scaled, y)\n",
    "\n",
    "# Predictions\n",
    "y_pred_lr = lr_model.predict(X_scaled)\n",
    "y_pred_rf = rf_model.predict(X_scaled)\n",
    "y_pred_ann = ann_model.predict(X_scaled)"
   ]
  },
  {
   "cell_type": "code",
   "execution_count": 8,
   "metadata": {},
   "outputs": [
    {
     "name": "stdout",
     "output_type": "stream",
     "text": [
      "Linear Regression: MAE = 1.47, MSE = 3.52, R² = 0.03\n",
      "Random Forest Regressor: MAE = 1.30, MSE = 2.65, R² = 0.26\n"
     ]
    }
   ],
   "source": [
    "# Make models\n",
    "lr_model = LinearRegression()\n",
    "rf_model = RandomForestRegressor(random_state=42)\n",
    "\n",
    "# K-fold cross-validation\n",
    "kf = KFold(n_splits=5, shuffle=True, random_state=42)\n",
    "\n",
    "# Evaluate models\n",
    "def evaluate_model(model, X, y, kf):\n",
    "    mae_scores = cross_val_score(model, X, y, cv=kf, scoring='neg_mean_absolute_error')\n",
    "    mse_scores = cross_val_score(model, X, y, cv=kf, scoring='neg_mean_squared_error')\n",
    "    r2_scores = cross_val_score(model, X, y, cv=kf, scoring='r2')\n",
    "    return -mae_scores.mean(), -mse_scores.mean(), r2_scores.mean()\n",
    "\n",
    "lr_mae, lr_mse, lr_r2 = evaluate_model(lr_model, X_scaled, y, kf)\n",
    "rf_mae, rf_mse, rf_r2 = evaluate_model(rf_model, X_scaled, y, kf)\n",
    "\n",
    "print(f\"Linear Regression: MAE = {lr_mae:.2f}, MSE = {lr_mse:.2f}, R² = {lr_r2:.2f}\")\n",
    "print(f\"Random Forest Regressor: MAE = {rf_mae:.2f}, MSE = {rf_mse:.2f}, R² = {rf_r2:.2f}\")"
   ]
  },
  {
   "cell_type": "code",
   "execution_count": 9,
   "metadata": {},
   "outputs": [
    {
     "name": "stdout",
     "output_type": "stream",
     "text": [
      "Linear Regression MAE: 1.5381390697848445\n",
      "Linear Regression MSE: 3.17156912490291\n",
      "Linear Regression R²: 0.15929055070218656\n",
      "Random Forest Regressor MAE: 1.4005882352941175\n",
      "Random Forest Regressor MSE: 2.8818647058823537\n",
      "Random Forest Regressor R²: 0.23608447603760585\n"
     ]
    }
   ],
   "source": [
    "# Train final models and get evaluation metrics\n",
    "X_train, X_test, y_train, y_test = train_test_split(X_scaled, y, test_size=0.2, random_state=42)\n",
    "\n",
    "# Linear Regression\n",
    "lr_model.fit(X_train, y_train)\n",
    "y_pred_lr = lr_model.predict(X_test)\n",
    "print(\"Linear Regression MAE:\", mean_absolute_error(y_test, y_pred_lr))\n",
    "print(\"Linear Regression MSE:\", mean_squared_error(y_test, y_pred_lr))\n",
    "print(\"Linear Regression R²:\", r2_score(y_test, y_pred_lr))\n",
    "\n",
    "# Random Forest Regressor\n",
    "rf_model.fit(X_train, y_train)\n",
    "y_pred_rf = rf_model.predict(X_test)\n",
    "print(\"Random Forest Regressor MAE:\", mean_absolute_error(y_test, y_pred_rf))\n",
    "print(\"Random Forest Regressor MSE:\", mean_squared_error(y_test, y_pred_rf))\n",
    "print(\"Random Forest Regressor R²:\", r2_score(y_test, y_pred_rf))\n"
   ]
  },
  {
   "cell_type": "code",
   "execution_count": 5,
   "metadata": {},
   "outputs": [
    {
     "name": "stderr",
     "output_type": "stream",
     "text": [
      "C:\\Users\\Monza\\AppData\\Local\\Temp\\ipykernel_23344\\2349278960.py:17: DeprecationWarning: KerasRegressor is deprecated, use Sci-Keras (https://github.com/adriangb/scikeras) instead. See https://www.adriangb.com/scikeras/stable/migration.html for help migrating.\n",
      "  ann_model = KerasRegressor(build_fn=create_ann, epochs=100, batch_size=10, verbose=0)\n"
     ]
    },
    {
     "name": "stdout",
     "output_type": "stream",
     "text": [
      "Decision Tree Regressor: MAE = 1.70, MSE = 5.35, R² = -0.46\n",
      "Artificial Neural Network: MAE = 1.48, MSE = 3.47, R² = 0.05\n"
     ]
    }
   ],
   "source": [
    "from sklearn.tree import DecisionTreeRegressor\n",
    "from keras.models import Sequential\n",
    "from keras.layers import Dense\n",
    "from keras.wrappers.scikit_learn import KerasRegressor\n",
    "\n",
    "# Initialize models\n",
    "dt_model = DecisionTreeRegressor(random_state=42)\n",
    "\n",
    "def create_ann():\n",
    "    model = Sequential()\n",
    "    model.add(Dense(64, input_dim=X_scaled.shape[1], activation='relu'))\n",
    "    model.add(Dense(32, activation='relu'))\n",
    "    model.add(Dense(1))\n",
    "    model.compile(loss='mean_squared_error', optimizer='adam')\n",
    "    return model\n",
    "\n",
    "ann_model = KerasRegressor(build_fn=create_ann, epochs=100, batch_size=10, verbose=0)\n",
    "\n",
    "# K-fold cross-validation\n",
    "kf = KFold(n_splits=5, shuffle=True, random_state=42)\n",
    "\n",
    "# Evaluate models\n",
    "def evaluate_model(model, X, y, kf):\n",
    "    mae_scores = cross_val_score(model, X, y, cv=kf, scoring='neg_mean_absolute_error')\n",
    "    mse_scores = cross_val_score(model, X, y, cv=kf, scoring='neg_mean_squared_error')\n",
    "    r2_scores = cross_val_score(model, X, y, cv=kf, scoring='r2')\n",
    "    return -mae_scores.mean(), -mse_scores.mean(), r2_scores.mean()\n",
    "\n",
    "dt_mae, dt_mse, dt_r2 = evaluate_model(dt_model, X_scaled, y, kf)\n",
    "ann_mae, ann_mse, ann_r2 = evaluate_model(ann_model, X_scaled, y, kf)\n",
    "\n",
    "print(f\"Decision Tree Regressor: MAE = {dt_mae:.2f}, MSE = {dt_mse:.2f}, R² = {dt_r2:.2f}\")\n",
    "print(f\"Artificial Neural Network: MAE = {ann_mae:.2f}, MSE = {ann_mse:.2f}, R² = {ann_r2:.2f}\")"
   ]
  }
 ],
 "metadata": {
  "kernelspec": {
   "display_name": "testingtest",
   "language": "python",
   "name": "python3"
  },
  "language_info": {
   "codemirror_mode": {
    "name": "ipython",
    "version": 3
   },
   "file_extension": ".py",
   "mimetype": "text/x-python",
   "name": "python",
   "nbconvert_exporter": "python",
   "pygments_lexer": "ipython3",
   "version": "3.8.19"
  }
 },
 "nbformat": 4,
 "nbformat_minor": 2
}
